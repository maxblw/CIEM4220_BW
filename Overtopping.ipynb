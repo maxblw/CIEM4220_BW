{
 "cells": [
  {
   "cell_type": "code",
   "execution_count": 1,
   "id": "aec734d1",
   "metadata": {},
   "outputs": [],
   "source": [
    "#Overtopping\n"
   ]
  },
  {
   "cell_type": "code",
   "execution_count": null,
   "id": "9d1c5050",
   "metadata": {},
   "outputs": [],
   "source": [
    "#Input variables\n",
    "\n",
    "# Gegeven:\n",
    "g = 9.81\n",
    "# Hm0 =    # m\n",
    "# gamma_f =\n",
    "gamma_v = 1\n",
    "q_lim = 0.01 # m3/s/m\n",
    "Tm01 =  #specifiek geinteresseerd in Tm-01!\n",
    "Lm1 = g * Tm01 ** 2 / (2*np.pi)\n",
    "# beta = \n",
    "gamma_beta = 1 - 0.0033 * beta\n",
    "print(gamma_beta)\n",
    "# h = 5.3 \n",
    "# width =  \n",
    "print(Lm)"
   ]
  },
  {
   "cell_type": "code",
   "execution_count": null,
   "id": "54da4fe8",
   "metadata": {},
   "outputs": [],
   "source": [
    "#zoals bij Dikes\n",
    "\n",
    "def calculate_Rc(q, Hm0, tan_alpha, gamma_b, gamma_f, gamma_beta, gamma_v, h, width):\n",
    "    g = 9.81  # gravity (m/s²)\n",
    "    Rc = []\n",
    "    xii = []\n",
    "    tan_aa = []\n",
    "    Ltott = []\n",
    "    heightt = []\n",
    "\n",
    "    for i in range(len(tan_alpha)):\n",
    "        xi = tan_alpha[i] / np.sqrt(Hm0 / Lm)\n",
    "        xii.append(xi)\n",
    "        tan_aa.append(tan_alpha[i])\n",
    "\n",
    "    # # # Calculate the argument inside the logarithm\n",
    "\n",
    "        numerator = q * np.sqrt(tan_alpha[i])\n",
    "        denominator = 0.026 * gamma_b * xi * np.sqrt(g * Hm0**3)\n",
    "        log_argument = numerator / denominator\n",
    "        # print(log_argument)\n",
    "    \n",
    "        if log_argument <= 0:\n",
    "            raise ValueError(\"Logarithm argument must be positive.\")\n",
    "    \n",
    "    # Compute the exponential expression\n",
    "        else: \n",
    "            power_term = (-np.log(log_argument))**(1/1.3)\n",
    "    \n",
    "    # Final Rc computation\n",
    "            Rcc = (xi * Hm0 * gamma_b * gamma_f * gamma_beta * gamma_v / 2.5) * power_term\n",
    "            # print(Rcc)\n",
    "            \n",
    "            height = h +  Rcc\n",
    "            Lin = height * 3.3\n",
    "            Lout = height / tan_alpha[i]\n",
    "            Ltot = Lout + width + Lin\n",
    "\n",
    "            Rc.append(Rcc)\n",
    "            heightt.append(height)\n",
    "            Ltott.append(Ltot)\n",
    "    return Rc, tan_aa, xii, heightt, Ltott"
   ]
  },
  {
   "cell_type": "code",
   "execution_count": null,
   "id": "304f874f",
   "metadata": {},
   "outputs": [],
   "source": []
  }
 ],
 "metadata": {
  "kernelspec": {
   "display_name": "mude-week-8",
   "language": "python",
   "name": "python3"
  },
  "language_info": {
   "codemirror_mode": {
    "name": "ipython",
    "version": 3
   },
   "file_extension": ".py",
   "mimetype": "text/x-python",
   "name": "python",
   "nbconvert_exporter": "python",
   "pygments_lexer": "ipython3",
   "version": "3.12.7"
  }
 },
 "nbformat": 4,
 "nbformat_minor": 5
}
