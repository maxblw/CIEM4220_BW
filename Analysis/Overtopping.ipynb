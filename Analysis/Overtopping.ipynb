{
 "cells": [
  {
   "cell_type": "code",
   "execution_count": 1,
   "id": "aec734d1",
   "metadata": {},
   "outputs": [],
   "source": [
    "#Overtopping\n",
    "import numpy as np\n"
   ]
  },
  {
   "cell_type": "code",
   "execution_count": 2,
   "id": "9d1c5050",
   "metadata": {},
   "outputs": [
    {
     "name": "stdout",
     "output_type": "stream",
     "text": [
      "0.736\n",
      "47.22962724987767\n"
     ]
    }
   ],
   "source": [
    "#Input variables ULS: south east conditions\n",
    "\n",
    "# Gegeven:\n",
    "g = 9.81\n",
    "Hm0 = 4.0   # m\n",
    "gamma_f = 0.45 #Xblocplus guideline\n",
    "gamma_v = 1\n",
    "gamma_b =  1 # no berm\n",
    "q_lim = 0.01 # m3/s/m\n",
    "Tm01 = 5.5 #specifiek geinteresseerd in Tm-01!\n",
    "Lm1 = g * Tm01 ** 2 / (2*np.pi)\n",
    "beta = 104-20\n",
    "if beta > 80:\n",
    "    gamma_beta = 0.736\n",
    "else:\n",
    "    gamma_beta = 1 - 0.0033 * beta\n",
    "print(gamma_beta)\n",
    "h = 11.0 # diepte bij HWL.\n",
    "tan_a = 1/1.5\n",
    "width =  7\n",
    "\n",
    "print(Lm1)"
   ]
  },
  {
   "cell_type": "code",
   "execution_count": 3,
   "id": "54da4fe8",
   "metadata": {},
   "outputs": [],
   "source": [
    "#zoals bij Dikes\n",
    "\n",
    "def calculate_Rc(q, Hm0, Tm01, tan_alpha, gamma_b, gamma_f, gamma_beta, gamma_v, h, width):\n",
    "    g = 9.81  # gravity (m/s²)\n",
    "    Rc = []\n",
    "    xii = []\n",
    "    tan_aa = []\n",
    "    Ltott = []\n",
    "    heightt = []\n",
    "\n",
    "    Lm = g * Tm01 ** 2 / (2*np.pi)\n",
    "\n",
    "    for i in range(len(tan_alpha)):\n",
    "        xi = tan_alpha[i] / np.sqrt(Hm0 / Lm)\n",
    "        xii.append(xi)\n",
    "        tan_aa.append(tan_alpha[i])\n",
    "\n",
    "    # # # Calculate the argument inside the logarithm\n",
    "\n",
    "        numerator = q * np.sqrt(tan_alpha[i])\n",
    "        denominator = 0.026 * gamma_b * xi * np.sqrt(g * Hm0**3)\n",
    "        log_argument = numerator / denominator\n",
    "        # print(log_argument)\n",
    "    \n",
    "        if log_argument <= 0:\n",
    "            raise ValueError(\"Logarithm argument must be positive.\")\n",
    "    \n",
    "    # Compute the exponential expression\n",
    "        else: \n",
    "            power_term = (-np.log(log_argument))**(1/1.3)\n",
    "    \n",
    "    # Final Rc computation\n",
    "            Rcc = (xi * Hm0 * gamma_b * gamma_f * gamma_beta * gamma_v / 2.5) * power_term\n",
    "            # print(Rcc)\n",
    "            \n",
    "            height = h +  Rcc\n",
    "            Lin = height * 3.3\n",
    "            Lout = height / tan_alpha[i]\n",
    "            Ltot = Lout + width + Lin\n",
    "\n",
    "            Rc.append(Rcc)\n",
    "            heightt.append(height)\n",
    "            Ltott.append(Ltot)\n",
    "    return Rc, tan_aa, xii, heightt, Ltott"
   ]
  },
  {
   "cell_type": "code",
   "execution_count": 4,
   "id": "304f874f",
   "metadata": {},
   "outputs": [
    {
     "data": {
      "text/plain": [
       "([np.float64(4.320161352186962)],\n",
       " [0.6666666666666666],\n",
       " [np.float64(2.290793827715082)],\n",
       " [np.float64(15.320161352186961)],\n",
       " [np.float64(80.53677449049741)])"
      ]
     },
     "metadata": {},
     "output_type": "display_data"
    }
   ],
   "source": [
    "A = calculate_Rc(q_lim, Hm0, Tm01, [tan_a], gamma_b, gamma_f, gamma_beta, gamma_v, h, width)\n",
    "display(A)"
   ]
  },
  {
   "cell_type": "code",
   "execution_count": null,
   "id": "b93ed6b7",
   "metadata": {},
   "outputs": [],
   "source": []
  }
 ],
 "metadata": {
  "kernelspec": {
   "display_name": "CIEM4220_DDB",
   "language": "python",
   "name": "python3"
  },
  "language_info": {
   "codemirror_mode": {
    "name": "ipython",
    "version": 3
   },
   "file_extension": ".py",
   "mimetype": "text/x-python",
   "name": "python",
   "nbconvert_exporter": "python",
   "pygments_lexer": "ipython3",
   "version": "3.13.2"
  }
 },
 "nbformat": 4,
 "nbformat_minor": 5
}
