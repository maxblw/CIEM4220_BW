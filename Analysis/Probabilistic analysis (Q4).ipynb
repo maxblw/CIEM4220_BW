{
 "cells": [
  {
   "cell_type": "code",
   "execution_count": 1,
   "id": "c288dbd7",
   "metadata": {},
   "outputs": [],
   "source": [
    "# probabilistic analysis: Monte carlo for overtopping"
   ]
  },
  {
   "cell_type": "code",
   "execution_count": 4,
   "id": "9a1e0ced",
   "metadata": {},
   "outputs": [],
   "source": [
    "import numpy as np\n",
    "import matplotlib.pyplot as plt"
   ]
  },
  {
   "cell_type": "code",
   "execution_count": 3,
   "id": "1962368d",
   "metadata": {},
   "outputs": [],
   "source": [
    "def Z(q, qlim, N):\n",
    "    \"q = loading\"\n",
    "    \"qlim = resistance\"\n",
    "    \"N = number of simulations\"\n",
    "    \"Nf = number of failures\"\n",
    "    \"returns: pf = probability of failure\"\n",
    "    \"V = coefficient of variation\"\n",
    "    Z = qlim - q\n",
    "    Nf = 0\n",
    "    for i in range(N):\n",
    "        if Z < 0:\n",
    "            Nf += 1\n",
    "    pf = Nf / N \n",
    "    std_pf = np.sqrt(pf * (1-pf) / N)\n",
    "    V_pf = std_pf / pf\n",
    "    return pf, V_pf\n"
   ]
  },
  {
   "cell_type": "code",
   "execution_count": null,
   "id": "c720c4ed",
   "metadata": {},
   "outputs": [],
   "source": []
  }
 ],
 "metadata": {
  "kernelspec": {
   "display_name": "mude-week-8",
   "language": "python",
   "name": "python3"
  },
  "language_info": {
   "codemirror_mode": {
    "name": "ipython",
    "version": 3
   },
   "file_extension": ".py",
   "mimetype": "text/x-python",
   "name": "python",
   "nbconvert_exporter": "python",
   "pygments_lexer": "ipython3",
   "version": "3.12.7"
  }
 },
 "nbformat": 4,
 "nbformat_minor": 5
}
