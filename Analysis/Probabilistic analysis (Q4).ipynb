{
 "cells": [
  {
   "cell_type": "code",
   "execution_count": 34,
   "id": "c288dbd7",
   "metadata": {},
   "outputs": [],
   "source": [
    "# probabilistic analysis: Monte carlo for overtopping"
   ]
  },
  {
   "cell_type": "code",
   "execution_count": 35,
   "id": "9a1e0ced",
   "metadata": {},
   "outputs": [],
   "source": [
    "import numpy as np\n",
    "import matplotlib.pyplot as plt\n",
    "from scipy import stats"
   ]
  },
  {
   "cell_type": "code",
   "execution_count": null,
   "id": "4710ba5b",
   "metadata": {},
   "outputs": [],
   "source": [
    "bw_dir = 20 # NNW\n",
    "slope = 1/1.5\n",
    "R_c = 5.31\n",
    "g = 9.81\n",
    "gamma_f = 0.45\n",
    "qlim = 1"
   ]
  },
  {
   "cell_type": "code",
   "execution_count": 54,
   "id": "937d4051",
   "metadata": {},
   "outputs": [],
   "source": [
    "def q_eq(g, H_s, xi_m10, gamma_f, gamma_beta, gamma_nu=1.0, gamma_b=1.0):\n",
    "    term_1 = (np.sqrt(g * (H_s**3)))\n",
    "    term_2 = (0.026 * gamma_b *xi_m10)\n",
    "    term_3 = (((2.5 * R_c) / (xi_m10 * H_s * gamma_b * gamma_f * gamma_beta * gamma_nu))**1.3)\n",
    "    q = term_1 * term_2 * np.exp(-term_3)\n",
    "    return q"
   ]
  },
  {
   "cell_type": "code",
   "execution_count": null,
   "id": "c720c4ed",
   "metadata": {},
   "outputs": [
    {
     "name": "stdout",
     "output_type": "stream",
     "text": [
      "pf = 0.00\n",
      "V_pf = nan\n"
     ]
    },
    {
     "name": "stderr",
     "output_type": "stream",
     "text": [
      "C:\\Users\\lucwi\\AppData\\Local\\Temp\\ipykernel_4632\\3829361879.py:24: RuntimeWarning: invalid value encountered in scalar divide\n",
      "  V_pf = std_pf / pf\n"
     ]
    }
   ],
   "source": [
    "Nf = 0\n",
    "N = 0\n",
    "\n",
    "MC = 1000\n",
    "for i in range(MC):\n",
    "    N += 1\n",
    "\n",
    "    # random get random variables from the distributions\n",
    "    W_L = stats.weibull_min.rvs(1.1343, 1.5482)\n",
    "    H_s = stats.weibull_min.rvs(1.3919, 1.9204)\n",
    "    T_m10 = stats.weibull_min.rvs(4.5380, 4.8738)\n",
    "    wave_dir = stats.norm.rvs(105, 14.9)\n",
    "\n",
    "    # calculate some relevant values\n",
    "    beta = abs(wave_dir - bw_dir)\n",
    "    gamma_beta = (1 - 0.0033 * beta)\n",
    "    L_m10 = ((g * (T_m10**2)) / (2 * np.pi))\n",
    "    xi_m10 = slope / np.sqrt(H_s/L_m10)\n",
    "\n",
    "    # calculate the dischrage\n",
    "    q = q_eq(g, H_s, xi_m10, gamma_f, gamma_beta)\n",
    "\n",
    "    # check the limit state function\n",
    "    Z = qlim - q\n",
    "    if Z < 0:\n",
    "        Nf += 1\n",
    "\n",
    "pf = Nf / N \n",
    "std_pf = np.sqrt(pf * (1-pf) / N)\n",
    "V_pf = std_pf / pf\n",
    "\n",
    "print(f'pf = {pf:.2f}')\n",
    "print(f'V_pf = {V_pf:.2f}')\n"
   ]
  },
  {
   "cell_type": "code",
   "execution_count": null,
   "id": "c6193d4e",
   "metadata": {},
   "outputs": [],
   "source": []
  }
 ],
 "metadata": {
  "kernelspec": {
   "display_name": "DDB25",
   "language": "python",
   "name": "python3"
  },
  "language_info": {
   "codemirror_mode": {
    "name": "ipython",
    "version": 3
   },
   "file_extension": ".py",
   "mimetype": "text/x-python",
   "name": "python",
   "nbconvert_exporter": "python",
   "pygments_lexer": "ipython3",
   "version": "3.13.3"
  }
 },
 "nbformat": 4,
 "nbformat_minor": 5
}
