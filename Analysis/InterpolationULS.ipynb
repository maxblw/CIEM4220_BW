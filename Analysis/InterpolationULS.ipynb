{
 "cells": [
  {
   "cell_type": "code",
   "execution_count": 1,
   "id": "51e02262",
   "metadata": {},
   "outputs": [],
   "source": [
    "def interp(V1, V2, T1, T2, T):\n",
    "    V = V1 + (T - 100) / (T2 - T1) * (V2 - V1)\n",
    "    return V\n",
    "\n",
    "T = 450"
   ]
  },
  {
   "cell_type": "code",
   "execution_count": 2,
   "id": "02d0a2af",
   "metadata": {},
   "outputs": [
    {
     "data": {
      "text/plain": [
       "3.311111111111111"
      ]
     },
     "execution_count": 2,
     "metadata": {},
     "output_type": "execute_result"
    }
   ],
   "source": [
    "#Hm0, SE\n",
    "T1 = 100\n",
    "T2 = 1000\n",
    "V1 = 3\n",
    "V2 = 3.8\n",
    "\n",
    "interp(V1, V2, T1, T2, T)"
   ]
  },
  {
   "cell_type": "code",
   "execution_count": 3,
   "id": "e6d2bdf8",
   "metadata": {},
   "outputs": [
    {
     "data": {
      "text/plain": [
       "7.072222222222222"
      ]
     },
     "execution_count": 3,
     "metadata": {},
     "output_type": "execute_result"
    }
   ],
   "source": [
    "# Tp, SE\n",
    "\n",
    "V1 = 6.8\n",
    "V2 = 7.5\n",
    "\n",
    "interp(V1, V2, T1, T2, T)"
   ]
  },
  {
   "cell_type": "code",
   "execution_count": 4,
   "id": "5d502a2e",
   "metadata": {},
   "outputs": [
    {
     "data": {
      "text/plain": [
       "6.394444444444445"
      ]
     },
     "execution_count": 4,
     "metadata": {},
     "output_type": "execute_result"
    }
   ],
   "source": [
    "# Tm-1,0, SE\n",
    "\n",
    "V1 = 6.2\n",
    "V2 = 6.7\n",
    "\n",
    "interp(V1, V2, T1, T2, T)"
   ]
  },
  {
   "cell_type": "code",
   "execution_count": 5,
   "id": "8c059bcc",
   "metadata": {},
   "outputs": [
    {
     "data": {
      "text/plain": [
       "25.46666666666667"
      ]
     },
     "execution_count": 5,
     "metadata": {},
     "output_type": "execute_result"
    }
   ],
   "source": [
    "# U10, SE\n",
    "V1 = 23.6\n",
    "V2 = 28.4\n",
    "\n",
    "interp(V1, V2, T1, T2, T)"
   ]
  },
  {
   "cell_type": "code",
   "execution_count": 6,
   "id": "18c6c3a2",
   "metadata": {},
   "outputs": [
    {
     "data": {
      "text/plain": [
       "30.355555555555554"
      ]
     },
     "execution_count": 6,
     "metadata": {},
     "output_type": "execute_result"
    }
   ],
   "source": [
    "# U10, W\n",
    "V1 = 28.8\n",
    "V2 = 32.8\n",
    "\n",
    "interp(V1, V2, T1, T2, T)"
   ]
  },
  {
   "cell_type": "code",
   "execution_count": 7,
   "id": "9c2b3f4c",
   "metadata": {},
   "outputs": [
    {
     "data": {
      "text/plain": [
       "4.272222222222222"
      ]
     },
     "execution_count": 7,
     "metadata": {},
     "output_type": "execute_result"
    }
   ],
   "source": [
    "# Hm0, W\n",
    "V1 = 4\n",
    "V2 = 4.7\n",
    "\n",
    "interp(V1, V2, T1, T2, T)"
   ]
  },
  {
   "cell_type": "code",
   "execution_count": 8,
   "id": "0508451a",
   "metadata": {},
   "outputs": [
    {
     "data": {
      "text/plain": [
       "7.655555555555556"
      ]
     },
     "execution_count": 8,
     "metadata": {},
     "output_type": "execute_result"
    }
   ],
   "source": [
    "# Tp, W\n",
    "V1 = 7.5\n",
    "V2 = 7.9\n",
    "\n",
    "interp(V1, V2, T1, T2, T)"
   ]
  },
  {
   "cell_type": "code",
   "execution_count": 9,
   "id": "8c80933f",
   "metadata": {},
   "outputs": [
    {
     "data": {
      "text/plain": [
       "6.855555555555555"
      ]
     },
     "execution_count": 9,
     "metadata": {},
     "output_type": "execute_result"
    }
   ],
   "source": [
    "# Tm-1,0, W\n",
    "V1 = 6.7\n",
    "V2 = 7.1\n",
    "\n",
    "interp(V1, V2, T1, T2, T)"
   ]
  },
  {
   "cell_type": "code",
   "execution_count": null,
   "id": "2cd6b1ba",
   "metadata": {},
   "outputs": [],
   "source": []
  }
 ],
 "metadata": {
  "kernelspec": {
   "display_name": "CIEM4220_DDB",
   "language": "python",
   "name": "python3"
  },
  "language_info": {
   "codemirror_mode": {
    "name": "ipython",
    "version": 3
   },
   "file_extension": ".py",
   "mimetype": "text/x-python",
   "name": "python",
   "nbconvert_exporter": "python",
   "pygments_lexer": "ipython3",
   "version": "3.13.2"
  }
 },
 "nbformat": 4,
 "nbformat_minor": 5
}
