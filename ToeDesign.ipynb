{
 "cells": [
  {
   "cell_type": "code",
   "execution_count": 27,
   "id": "f13a79eb",
   "metadata": {},
   "outputs": [],
   "source": [
    "import numpy as np"
   ]
  },
  {
   "cell_type": "code",
   "execution_count": 38,
   "id": "ce3183d3",
   "metadata": {},
   "outputs": [],
   "source": [
    "#Input values ULS\n",
    "\n",
    "Hs=2.6\n",
    "ht = 2.6\n",
    "h_ULS = 5\n",
    "h_SLS = 5.3\n",
    "Nod_ULS = 4\n",
    "Nod_SLS = 1\n",
    "d_init = 1\n",
    "rho_c = 2400\n",
    "rho_w = 1030\n",
    "delta = (rho_c - rho_w) / rho_w"
   ]
  },
  {
   "cell_type": "code",
   "execution_count": 39,
   "id": "154b4669",
   "metadata": {},
   "outputs": [],
   "source": [
    "# eerste equation\n",
    "\n",
    "def D50(Hs, ht, h, Nod, d_init, delta):\n",
    "    tol = 10 ** (-3)\n",
    "    # d = []\n",
    "    for i in range(1000):\n",
    "        dn50 = Hs / (delta * Nod ** 0.15 * (0.24 * ht / d_init + 1.6))\n",
    "        # d.append(dn50)\n",
    "        if np.abs(dn50-d_init) < tol:\n",
    "            break\n",
    "        d_init = dn50\n",
    "    return dn50\n"
   ]
  },
  {
   "cell_type": "code",
   "execution_count": 40,
   "id": "cd9b9d30",
   "metadata": {},
   "outputs": [
    {
     "name": "stdout",
     "output_type": "stream",
     "text": [
      "0.8321795598803813\n",
      "0.6026882822800947\n"
     ]
    }
   ],
   "source": [
    "D1_SLS = D50(Hs, ht, h_SLS, Nod_SLS, d_init, delta)\n",
    "D1_ULS = D50(Hs, ht, h_ULS, Nod_ULS, d_init, delta)\n",
    "print(D1_SLS)\n",
    "print(D1_ULS)"
   ]
  },
  {
   "cell_type": "code",
   "execution_count": 41,
   "id": "9869c1fd",
   "metadata": {},
   "outputs": [],
   "source": [
    "# tweede equation\n",
    "def D2_50(Hs, ht, h, Nod, delta):\n",
    "    dn50 = Hs / (delta * Nod ** 0.15 * (6.2 * ht / h + 2))\n",
    "    return dn50"
   ]
  },
  {
   "cell_type": "code",
   "execution_count": 42,
   "id": "bcd17213",
   "metadata": {},
   "outputs": [
    {
     "name": "stdout",
     "output_type": "stream",
     "text": [
      "0.38773001442370725\n",
      "0.303932987201406\n"
     ]
    }
   ],
   "source": [
    "D2_SLS = D2_50(Hs, ht, h_SLS, Nod_SLS, delta)\n",
    "D2_ULS = D2_50(Hs, ht, h_ULS, Nod_ULS, delta)\n",
    "\n",
    "print(D2_SLS)\n",
    "print(D2_ULS)"
   ]
  },
  {
   "cell_type": "code",
   "execution_count": null,
   "id": "6192b750",
   "metadata": {},
   "outputs": [],
   "source": []
  },
  {
   "cell_type": "code",
   "execution_count": null,
   "id": "aac8c42a",
   "metadata": {},
   "outputs": [],
   "source": []
  }
 ],
 "metadata": {
  "kernelspec": {
   "display_name": "mude-week-8",
   "language": "python",
   "name": "python3"
  },
  "language_info": {
   "codemirror_mode": {
    "name": "ipython",
    "version": 3
   },
   "file_extension": ".py",
   "mimetype": "text/x-python",
   "name": "python",
   "nbconvert_exporter": "python",
   "pygments_lexer": "ipython3",
   "version": "3.12.7"
  }
 },
 "nbformat": 4,
 "nbformat_minor": 5
}
